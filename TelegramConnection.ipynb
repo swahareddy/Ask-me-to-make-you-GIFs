{
 "cells": [
  {
   "cell_type": "markdown",
   "metadata": {},
   "source": [
    "# Telegram Connection"
   ]
  },
  {
   "cell_type": "code",
   "execution_count": 1,
   "metadata": {},
   "outputs": [
    {
     "name": "stdout",
     "output_type": "stream",
     "text": [
      " Volume in drive C is Local Disk\n",
      " Volume Serial Number is AA1B-997A\n",
      "\n",
      " Directory of C:\\Users\\Tejaswa\\Documents\\GitHub\\GIFGenerator\\gangsta\n",
      "\n",
      "23/08/2020  02:21    <DIR>          .\n",
      "23/08/2020  02:21    <DIR>          ..\n",
      "23/08/2020  02:14               853 bot.py\n",
      "23/08/2020  02:21                65 config.cfg\n",
      "23/08/2020  02:14               545 gizoogle.py\n",
      "23/08/2020  02:14               373 README.md\n",
      "23/08/2020  02:14               682 server.py\n",
      "23/08/2020  02:21    <DIR>          __pycache__\n",
      "               5 File(s)          2,518 bytes\n",
      "               3 Dir(s)  19,595,505,664 bytes free\n"
     ]
    }
   ],
   "source": [
    "# !pip install telebot\n",
    "# !pip install telethon\n",
    "# !git clone https://github.com/SouravJohar/gangsta.git\n",
    "import os\n",
    "os.chdir('gangsta')\n",
    "!dir"
   ]
  },
  {
   "cell_type": "code",
   "execution_count": 2,
   "metadata": {},
   "outputs": [
    {
     "data": {
      "text/plain": [
       "'\\n# importing all required libraries \\nimport telebot \\nfrom telethon.sync import TelegramClient \\nfrom telethon.tl.types import InputPeerUser, InputPeerChannel \\nfrom telethon import TelegramClient, sync, events \\n\\n\\n# get your api_id, api_hash, token \\n# from telegram as described above \\napi_id = \\'1780078\\'\\napi_hash = \\'3853bcb0c76a1b75e03818d238e1fe3f\\'\\ntoken = \\'1316950383:AAG05oetyERQk__BZBUB-YSnDECvKvOoZQY\\'\\n\\n# your phone number \\nphone = \\'+919168015342\\'\\n\\n# creating a telegram session and assigning \\n# it to a variable client \\nclient = TelegramClient(\\'session\\', api_id, api_hash) \\n\\n# connecting and building the session \\nclient.connect() \\n\\n# in case of script ran first time it will \\n# ask either to input token or otp sent to \\n# number or sent or your telegram id \\nif not client.is_user_authorized(): \\n\\n\\tclient.send_code_request(phone) \\n\\t\\n\\t# signing in the client \\n\\tclient.sign_in(phone, input(\\'Enter the code: \\')) \\n\\n\\ntry: \\n\\t# receiver user_id and access_hash, use \\n\\t# my user_id and access_hash for reference \\n\\treceiver = InputPeerUser(\\'user_id\\', \\'user_hash\\') \\n\\n\\t# sending message using telegram client \\n\\tmessage=\"Hello World\"\\n\\tclient.send_message(receiver, message, parse_mode=\\'html\\') \\nexcept Exception as e: \\n\\t\\n\\t# there may be many error coming in while like peer \\n\\t# error, wwrong access_hash, flood_error, etc \\n\\tprint(e); \\n\\n# disconnecting the telegram session \\nclient.disconnect() \\n'"
      ]
     },
     "execution_count": 2,
     "metadata": {},
     "output_type": "execute_result"
    }
   ],
   "source": [
    "'''\n",
    "# importing all required libraries \n",
    "import telebot \n",
    "from telethon.sync import TelegramClient \n",
    "from telethon.tl.types import InputPeerUser, InputPeerChannel \n",
    "from telethon import TelegramClient, sync, events \n",
    "\n",
    "\n",
    "# get your api_id, api_hash, token \n",
    "# from telegram as described above \n",
    "api_id = '1780078'\n",
    "api_hash = '3853bcb0c76a1b75e03818d238e1fe3f'\n",
    "token = '1316950383:AAG05oetyERQk__BZBUB-YSnDECvKvOoZQY'\n",
    "\n",
    "# your phone number \n",
    "phone = '+919168015342'\n",
    "\n",
    "# creating a telegram session and assigning \n",
    "# it to a variable client \n",
    "client = TelegramClient('session', api_id, api_hash) \n",
    "\n",
    "# connecting and building the session \n",
    "client.connect() \n",
    "\n",
    "# in case of script ran first time it will \n",
    "# ask either to input token or otp sent to \n",
    "# number or sent or your telegram id \n",
    "if not client.is_user_authorized(): \n",
    "\n",
    "\tclient.send_code_request(phone) \n",
    "\t\n",
    "\t# signing in the client \n",
    "\tclient.sign_in(phone, input('Enter the code: ')) \n",
    "\n",
    "\n",
    "try: \n",
    "\t# receiver user_id and access_hash, use \n",
    "\t# my user_id and access_hash for reference \n",
    "\treceiver = InputPeerUser('user_id', 'user_hash') \n",
    "\n",
    "\t# sending message using telegram client \n",
    "\tmessage=\"Hello World\"\n",
    "\tclient.send_message(receiver, message, parse_mode='html') \n",
    "except Exception as e: \n",
    "\t\n",
    "\t# there may be many error coming in while like peer \n",
    "\t# error, wwrong access_hash, flood_error, etc \n",
    "\tprint(e); \n",
    "\n",
    "# disconnecting the telegram session \n",
    "client.disconnect() \n",
    "'''"
   ]
  },
  {
   "cell_type": "code",
   "execution_count": 3,
   "metadata": {},
   "outputs": [
    {
     "name": "stdout",
     "output_type": "stream",
     "text": [
      "Hello bot!\n",
      "Bleh?\n",
      "belh you\n"
     ]
    },
    {
     "ename": "KeyError",
     "evalue": "'result'",
     "output_type": "error",
     "traceback": [
      "\u001b[1;31m---------------------------------------------------------------------------\u001b[0m",
      "\u001b[1;31mKeyError\u001b[0m                                  Traceback (most recent call last)",
      "\u001b[1;32m<ipython-input-3-71f777a4f1e3>\u001b[0m in \u001b[0;36m<module>\u001b[1;34m\u001b[0m\n\u001b[0;32m     12\u001b[0m \u001b[1;32mwhile\u001b[0m \u001b[1;32mTrue\u001b[0m\u001b[1;33m:\u001b[0m\u001b[1;33m\u001b[0m\u001b[1;33m\u001b[0m\u001b[0m\n\u001b[0;32m     13\u001b[0m     \u001b[0mupdates\u001b[0m \u001b[1;33m=\u001b[0m \u001b[0mbot\u001b[0m\u001b[1;33m.\u001b[0m\u001b[0mget_updates\u001b[0m\u001b[1;33m(\u001b[0m\u001b[0moffset\u001b[0m\u001b[1;33m=\u001b[0m\u001b[0mupdate_id\u001b[0m\u001b[1;33m)\u001b[0m\u001b[1;33m\u001b[0m\u001b[1;33m\u001b[0m\u001b[0m\n\u001b[1;32m---> 14\u001b[1;33m     \u001b[0mupdates\u001b[0m \u001b[1;33m=\u001b[0m \u001b[0mupdates\u001b[0m\u001b[1;33m[\u001b[0m\u001b[1;34m\"result\"\u001b[0m\u001b[1;33m]\u001b[0m\u001b[1;33m\u001b[0m\u001b[1;33m\u001b[0m\u001b[0m\n\u001b[0m\u001b[0;32m     15\u001b[0m     \u001b[1;32mif\u001b[0m \u001b[0mupdates\u001b[0m\u001b[1;33m:\u001b[0m\u001b[1;33m\u001b[0m\u001b[1;33m\u001b[0m\u001b[0m\n\u001b[0;32m     16\u001b[0m         \u001b[1;32mfor\u001b[0m \u001b[0mitem\u001b[0m \u001b[1;32min\u001b[0m \u001b[0mupdates\u001b[0m\u001b[1;33m:\u001b[0m\u001b[1;33m\u001b[0m\u001b[1;33m\u001b[0m\u001b[0m\n",
      "\u001b[1;31mKeyError\u001b[0m: 'result'"
     ]
    }
   ],
   "source": [
    "from bot import telegram_chatbot\n",
    "import gizoogle\n",
    "\n",
    "bot = telegram_chatbot(\"config.cfg\")\n",
    "\n",
    "def make_reply(msg):\n",
    "    reply = None\n",
    "    if msg is not None:\n",
    "        reply = gizoogle.text(msg)\n",
    "    return reply\n",
    "update_id = None\n",
    "firstmsg=0\n",
    "while True:\n",
    "    updates = bot.get_updates(offset=update_id)\n",
    "    updates = updates[\"result\"]\n",
    "    if updates:\n",
    "        for item in updates:\n",
    "            update_id = item[\"update_id\"]\n",
    "            try:\n",
    "                message = str(item[\"message\"][\"text\"])\n",
    "                print(message)\n",
    "                \n",
    "            except:\n",
    "                message = None\n",
    "                print(\"Na ho payega\")\n",
    "            from_ = item[\"message\"][\"from\"][\"id\"]\n",
    "            #reply = make_reply(message)\n",
    "            if firstmsg==0:\n",
    "                reply=\"Hi earthling, we will be making GIFs from the sitcom 'The Office (US)' today. You have choices from Seasons 4,5 and 6. Just enter the name of the dialogue.\"\n",
    "            else:\n",
    "                reply = \"Bleh\"\n",
    "            bot.send_message(reply, from_)\n",
    "            firstmsg=1\n"
   ]
  }
 ],
 "metadata": {
  "kernelspec": {
   "display_name": "Python 3",
   "language": "python",
   "name": "python3"
  },
  "language_info": {
   "codemirror_mode": {
    "name": "ipython",
    "version": 3
   },
   "file_extension": ".py",
   "mimetype": "text/x-python",
   "name": "python",
   "nbconvert_exporter": "python",
   "pygments_lexer": "ipython3",
   "version": "3.7.3"
  }
 },
 "nbformat": 4,
 "nbformat_minor": 2
}
